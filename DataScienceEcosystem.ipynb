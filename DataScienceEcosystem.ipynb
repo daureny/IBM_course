{
 "cells": [
  {
   "cell_type": "markdown",
   "id": "c3cc6094-5bc4-48d6-a7a8-d304fe0a1718",
   "metadata": {},
   "source": [
    "# Data Science Tools and Ecosystem"
   ]
  },
  {
   "cell_type": "code",
   "execution_count": null,
   "id": "560d0e37-beab-425f-8071-8a56e7a0d53b",
   "metadata": {},
   "outputs": [],
   "source": [
    "In this notebook, Data Science Tools and Ecosystem are summarized."
   ]
  },
  {
   "cell_type": "markdown",
   "id": "ba98e151-0cbd-4873-b4ba-6886a1a51876",
   "metadata": {},
   "source": [
    "Some of the popular languages that Data Scientists use are:\n",
    "1. Julia.\n",
    "2. Python.\n",
    "3. R."
   ]
  },
  {
   "cell_type": "markdown",
   "id": "d2d98529-3da4-49dc-b0ad-cc42779e529c",
   "metadata": {},
   "source": [
    "Some of the commonly used libraries used by Data Scientists include:\n",
    "1. NumPy.\n",
    "2. Pandas.\n",
    "3. MatplotLib."
   ]
  },
  {
   "cell_type": "markdown",
   "id": "b79f731f-4117-422d-88c4-414e255e355f",
   "metadata": {},
   "source": [
    "|Data Science Tools|\n",
    "|--------------------|\n",
    "|Spyder|\n",
    "|PyCharm|\n",
    "|VisualStudio|"
   ]
  },
  {
   "cell_type": "markdown",
   "id": "7c3076b3-6767-4db6-8db6-e1fd802fa530",
   "metadata": {},
   "source": [
    "### Below are a few examples of evaluating arithmetic expressions in Python"
   ]
  },
  {
   "cell_type": "code",
   "execution_count": 15,
   "id": "389b2e6f-dd41-404e-95af-65c35d17fad1",
   "metadata": {},
   "outputs": [
    {
     "data": {
      "text/plain": [
       "17"
      ]
     },
     "execution_count": 15,
     "metadata": {},
     "output_type": "execute_result"
    }
   ],
   "source": [
    "(3*4)+5\n"
   ]
  },
  {
   "cell_type": "code",
   "execution_count": 17,
   "id": "0cf6f3c4-2c13-4748-90e8-98966bf6e8db",
   "metadata": {},
   "outputs": [
    {
     "data": {
      "text/plain": [
       "3.3333333333333335"
      ]
     },
     "execution_count": 17,
     "metadata": {},
     "output_type": "execute_result"
    }
   ],
   "source": [
    "# This will convert 200 minutes to hours by diving by 60\n",
    "200/60"
   ]
  },
  {
   "cell_type": "markdown",
   "id": "9b20451d-236a-41c5-b389-c380cdabcb60",
   "metadata": {},
   "source": [
    "**Objectives:**"
   ]
  },
  {
   "cell_type": "markdown",
   "id": "ca0e38ac-e5b1-4678-aec5-3e5820aed2ec",
   "metadata": {},
   "source": [
    "* List popular languages for Data Science\n",
    "* List popular libraries in python\n",
    "* List popular IDEs"
   ]
  },
  {
   "cell_type": "markdown",
   "id": "5fc6f495-589b-4cba-bcec-cdcf29856835",
   "metadata": {},
   "source": [
    "## Author\n",
    "Dauren Yeleukenov"
   ]
  },
  {
   "cell_type": "code",
   "execution_count": null,
   "id": "78997d93-6710-4551-9e8e-df8c198982cc",
   "metadata": {},
   "outputs": [],
   "source": []
  }
 ],
 "metadata": {
  "kernelspec": {
   "display_name": "Python 3 (ipykernel)",
   "language": "python",
   "name": "python3"
  },
  "language_info": {
   "codemirror_mode": {
    "name": "ipython",
    "version": 3
   },
   "file_extension": ".py",
   "mimetype": "text/x-python",
   "name": "python",
   "nbconvert_exporter": "python",
   "pygments_lexer": "ipython3",
   "version": "3.11.9"
  }
 },
 "nbformat": 4,
 "nbformat_minor": 5
}
